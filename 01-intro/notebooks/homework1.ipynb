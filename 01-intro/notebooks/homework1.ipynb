{
 "cells": [
  {
   "cell_type": "code",
   "execution_count": 1,
   "id": "985b77e0-df0d-4dc8-866a-e6dfda1d78bd",
   "metadata": {},
   "outputs": [],
   "source": [
    "import pandas as pd\n",
    "import numpy as np"
   ]
  },
  {
   "cell_type": "markdown",
   "id": "0dab8726-f513-4ee2-af2d-69cb1b79f6d5",
   "metadata": {},
   "source": [
    "## Q1. Pandas Version "
   ]
  },
  {
   "cell_type": "code",
   "execution_count": 5,
   "id": "9dcb98c7-13ba-4177-90ec-c44a4691ba40",
   "metadata": {},
   "outputs": [
    {
     "data": {
      "text/plain": [
       "'2.2.2'"
      ]
     },
     "execution_count": 5,
     "metadata": {},
     "output_type": "execute_result"
    }
   ],
   "source": [
    "# What's the Installed version of pandas? \n",
    "pd.__version__"
   ]
  },
  {
   "cell_type": "markdown",
   "id": "d3bbb3b5-5d93-4ecd-9ea6-1d8aae06be56",
   "metadata": {},
   "source": [
    "## Q2. Records Count"
   ]
  },
  {
   "cell_type": "code",
   "execution_count": 6,
   "id": "94dd849b-aaad-47c5-b4c2-121b23c40d30",
   "metadata": {},
   "outputs": [],
   "source": [
    "# Read csv into a DataFrame\n",
    "df = pd.read_csv('../Data/laptops.csv')"
   ]
  },
  {
   "cell_type": "code",
   "execution_count": 14,
   "id": "852f22b0-a606-4970-b8dd-063d13542262",
   "metadata": {},
   "outputs": [
    {
     "name": "stdout",
     "output_type": "stream",
     "text": [
      "2160 records\n"
     ]
    }
   ],
   "source": [
    "# How many records are in the dataset?\n",
    "print(f'{df.shape[0]} records')"
   ]
  },
  {
   "cell_type": "markdown",
   "id": "0b4d8006-2b23-4fa8-b474-b70b213f29e5",
   "metadata": {},
   "source": [
    "## Q3. Laptop Brands"
   ]
  },
  {
   "cell_type": "code",
   "execution_count": 13,
   "id": "cd0ecda6-d514-47fb-a50a-a38e4782a1c8",
   "metadata": {},
   "outputs": [
    {
     "data": {
      "text/plain": [
       "27"
      ]
     },
     "execution_count": 13,
     "metadata": {},
     "output_type": "execute_result"
    }
   ],
   "source": [
    "# How many laptop brands are presented in the dataset?\n",
    "df['Brand'].nunique()"
   ]
  },
  {
   "cell_type": "markdown",
   "id": "adacf29e-f815-4726-91e3-639d61542e0c",
   "metadata": {},
   "source": [
    "## Q4. Missing Values"
   ]
  },
  {
   "cell_type": "code",
   "execution_count": 19,
   "id": "cb67fbb2-9ea8-42b6-bb56-76d785df4026",
   "metadata": {},
   "outputs": [
    {
     "data": {
      "text/plain": [
       "Laptop             0\n",
       "Status             0\n",
       "Brand              0\n",
       "Model              0\n",
       "CPU                0\n",
       "RAM                0\n",
       "Storage            0\n",
       "Storage type      42\n",
       "GPU             1371\n",
       "Screen             4\n",
       "Touch              0\n",
       "Final Price        0\n",
       "dtype: int64"
      ]
     },
     "execution_count": 19,
     "metadata": {},
     "output_type": "execute_result"
    }
   ],
   "source": [
    "# How many columns in the dataset have missing values?\n",
    "df.isna().sum()"
   ]
  },
  {
   "cell_type": "code",
   "execution_count": 22,
   "id": "bbbd9aa0-8e63-45bb-9130-f5498c83d446",
   "metadata": {},
   "outputs": [
    {
     "data": {
      "text/plain": [
       "3"
      ]
     },
     "execution_count": 22,
     "metadata": {},
     "output_type": "execute_result"
    }
   ],
   "source": [
    "len(df.isna().sum()[df.isna().sum() > 0])"
   ]
  },
  {
   "cell_type": "markdown",
   "id": "0b17763b-8a8f-40a1-80d2-a4848e962f0b",
   "metadata": {},
   "source": [
    "## Q5. Maximum Final Price"
   ]
  },
  {
   "cell_type": "code",
   "execution_count": 28,
   "id": "b6741c47-5fbe-458c-9cfa-323f497245f2",
   "metadata": {},
   "outputs": [
    {
     "name": "stdout",
     "output_type": "stream",
     "text": [
      "3936.0\n"
     ]
    }
   ],
   "source": [
    "# What's the maximum final price of Dell notebooks in the dataset?\n",
    "dell_df = df[df['Brand'] == 'Dell']\n",
    "print(dell_df['Final Price'].max())"
   ]
  },
  {
   "cell_type": "markdown",
   "id": "745d53c8-59b3-4173-8724-5183e6217398",
   "metadata": {},
   "source": [
    "## Q6. Median Value of Screen"
   ]
  },
  {
   "cell_type": "code",
   "execution_count": 30,
   "id": "edfe7140-b3a4-4d08-9dd8-733807a9ad75",
   "metadata": {},
   "outputs": [
    {
     "name": "stdout",
     "output_type": "stream",
     "text": [
      "15.6\n"
     ]
    }
   ],
   "source": [
    "# Find the median value of Screen column in the dataset\n",
    "median_screen = df['Screen'].median()\n",
    "print(median_screen)"
   ]
  },
  {
   "cell_type": "code",
   "execution_count": 38,
   "id": "feda602a-94fa-4495-8321-5dd178229e14",
   "metadata": {},
   "outputs": [
    {
     "name": "stdout",
     "output_type": "stream",
     "text": [
      "15.6\n"
     ]
    }
   ],
   "source": [
    "# Next, calculate the most frequent value of the same Screen column\n",
    "mode_screen = df['Screen'].mode().loc[0]\n",
    "print(mode_screen)"
   ]
  },
  {
   "cell_type": "code",
   "execution_count": 39,
   "id": "5f7ca1f4-e0ba-48c6-9bae-afe20075296a",
   "metadata": {},
   "outputs": [],
   "source": [
    "# Use fillna method to fill the missing values in Screen column with the most frequent value from the previous step\n",
    "df['Screen'] = df['Screen'].fillna(mode_screen)"
   ]
  },
  {
   "cell_type": "code",
   "execution_count": 40,
   "id": "42fcbfaf-8eff-47e0-bec0-f458aa0ffc18",
   "metadata": {},
   "outputs": [
    {
     "name": "stdout",
     "output_type": "stream",
     "text": [
      "15.6\n"
     ]
    }
   ],
   "source": [
    "# Now, calculate the median value of Screen once again\n",
    "median_screen_2 = df['Screen'].median()\n",
    "print(median_screen_2)"
   ]
  },
  {
   "cell_type": "code",
   "execution_count": 41,
   "id": "04f2b252-a6e0-4fd7-92e4-e51bcd435db4",
   "metadata": {},
   "outputs": [
    {
     "name": "stdout",
     "output_type": "stream",
     "text": [
      "No\n"
     ]
    }
   ],
   "source": [
    "# Has it changed?\n",
    "print('No')"
   ]
  },
  {
   "cell_type": "markdown",
   "id": "54ecbfb5-ef04-44e1-b78f-235f81df9a32",
   "metadata": {},
   "source": [
    "## Q7. Sum of Weights"
   ]
  },
  {
   "cell_type": "code",
   "execution_count": 51,
   "id": "3cca0348-8b2f-4cc8-807a-0c52fd25ce6f",
   "metadata": {},
   "outputs": [],
   "source": [
    "# Select all the \"Innjoo\" laptops from the dataset\n",
    "injoo_df = df[df['Brand'] == 'Innjoo']"
   ]
  },
  {
   "cell_type": "code",
   "execution_count": 52,
   "id": "65fe77fe-b027-4aca-8ca7-187a86d3f1e8",
   "metadata": {},
   "outputs": [],
   "source": [
    "# Select only columns RAM, Storage, Screen\n",
    "# Get the underlying NumPy array. Let's call it X\n",
    "X = np.array(injoo_df[['RAM', 'Storage', 'Screen']])"
   ]
  },
  {
   "cell_type": "code",
   "execution_count": 54,
   "id": "7da76489-981d-44a3-8f66-3225441fbe89",
   "metadata": {},
   "outputs": [
    {
     "data": {
      "text/plain": [
       "np.float64(91.2998806299557)"
      ]
     },
     "execution_count": 54,
     "metadata": {},
     "output_type": "execute_result"
    }
   ],
   "source": [
    "# Compute XTX\n",
    "XTX = X.T @ X\n",
    "\n",
    "# Compute the inverse of XTX\n",
    "XTX_inv = np.linalg.inv(XTX)\n",
    "\n",
    "# Create y\n",
    "y = np.array([1100, 1300, 800, 900, 1000, 1100])\n",
    "\n",
    "# Compute w\n",
    "w = XTX_inv @ X.T @ y\n",
    "\n",
    "# Compute the sum of all elements in w\n",
    "sum_w = np.sum(w)\n",
    "sum_w"
   ]
  },
  {
   "cell_type": "code",
   "execution_count": null,
   "id": "237101ce-4906-44ff-84b6-4f2dcced5ef6",
   "metadata": {},
   "outputs": [],
   "source": []
  }
 ],
 "metadata": {
  "kernelspec": {
   "display_name": "Python [conda env:ml-zoomcamp]",
   "language": "python",
   "name": "conda-env-ml-zoomcamp-py"
  },
  "language_info": {
   "codemirror_mode": {
    "name": "ipython",
    "version": 3
   },
   "file_extension": ".py",
   "mimetype": "text/x-python",
   "name": "python",
   "nbconvert_exporter": "python",
   "pygments_lexer": "ipython3",
   "version": "3.11.10"
  }
 },
 "nbformat": 4,
 "nbformat_minor": 5
}
